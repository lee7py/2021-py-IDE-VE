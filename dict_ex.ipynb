{
 "cells": [
  {
   "cell_type": "markdown",
   "metadata": {},
   "source": [
    "## 참조사이트\n",
    "- https://github.com/YashMarmat/Dictionaries-in-python/blob/master/dictionary.py"
   ]
  },
  {
   "cell_type": "code",
   "execution_count": 6,
   "metadata": {},
   "outputs": [
    {
     "name": "stdout",
     "output_type": "stream",
     "text": [
      "Full Name: yash marmat\n"
     ]
    }
   ],
   "source": [
    "info = {'first_name':'yash','last_name':'marmat','age':22,'city':'delhi'}\n",
    "print('Full Name: ' + info['first_name'] + ' ' + info['last_name'])"
   ]
  },
  {
   "cell_type": "code",
   "execution_count": 7,
   "metadata": {},
   "outputs": [
    {
     "name": "stdout",
     "output_type": "stream",
     "text": [
      "{'first_name': 'yash', 'last_name': 'marmat', 'age': 22, 'city': 'delhi', 'interest': 'coding'}\n"
     ]
    }
   ],
   "source": [
    "info['interest'] = 'coding'\n",
    "print(info)"
   ]
  },
  {
   "cell_type": "code",
   "execution_count": null,
   "metadata": {},
   "outputs": [],
   "source": []
  },
  {
   "cell_type": "code",
   "execution_count": 10,
   "metadata": {},
   "outputs": [
    {
     "name": "stdout",
     "output_type": "stream",
     "text": [
      "{'name': 'sam', 'location': 'paris'}\n"
     ]
    }
   ],
   "source": [
    "info2 = {}   # empty dictionary\n",
    "info2['name'] = 'sam'      # adding new key-value pair in an empty dictionary\n",
    "info2['location'] = 'paris'\n",
    "print(info2)"
   ]
  },
  {
   "cell_type": "code",
   "execution_count": 11,
   "metadata": {},
   "outputs": [
    {
     "name": "stdout",
     "output_type": "stream",
     "text": [
      "{'name': 'sam', 'location': 'paris'}\n"
     ]
    }
   ],
   "source": [
    "info2 = {}   # empty dictionary\n",
    "info2['name'] = 'sam'      # adding new key-value pair in an empty dictionary\n",
    "info2['location'] = 'paris'\n",
    "print(info2)"
   ]
  },
  {
   "cell_type": "code",
   "execution_count": null,
   "metadata": {},
   "outputs": [],
   "source": [
    "info2 = {}   # empty dictionary\n",
    "info2['name'] = 'sam'      # adding new key-value pair in an empty dictionary\n",
    "info2['location'] = 'paris'\n",
    "print(info2)\n",
    "\n",
    "info2 = {}   # empty dictionary\n",
    "info2['name'] = 'sam'      # adding new key-value pair in an empty dictionary\n",
    "info2['location'] = 'paris'\n",
    "print(info2)"
   ]
  },
  {
   "cell_type": "code",
   "execution_count": null,
   "metadata": {},
   "outputs": [],
   "source": [
    "info2 = {}   # empty dictionary\n",
    "info2['name'] = 'sam'      # adding new key-value pair in an empty dictionary\n",
    "info2['location'] = 'paris'\n",
    "print(info2)\n",
    "\n",
    "info2 = {}   # empty dictionary\n",
    "info2['name'] = 'sam'      # adding new key-value pair in an empty dictionary\n",
    "info2['location'] = 'paris'\n",
    "print(info2)"
   ]
  },
  {
   "cell_type": "code",
   "execution_count": null,
   "metadata": {},
   "outputs": [],
   "source": []
  }
 ],
 "metadata": {
  "kernelspec": {
   "display_name": "Python 3",
   "language": "python",
   "name": "python3"
  },
  "language_info": {
   "codemirror_mode": {
    "name": "ipython",
    "version": 3
   },
   "file_extension": ".py",
   "mimetype": "text/x-python",
   "name": "python",
   "nbconvert_exporter": "python",
   "pygments_lexer": "ipython3",
   "version": "3.8.5"
  }
 },
 "nbformat": 4,
 "nbformat_minor": 4
}
