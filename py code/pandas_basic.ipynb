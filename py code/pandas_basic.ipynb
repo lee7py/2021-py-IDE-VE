{
 "cells": [
  {
   "cell_type": "code",
   "execution_count": 15,
   "id": "b3ae91e2",
   "metadata": {},
   "outputs": [
    {
     "name": "stdout",
     "output_type": "stream",
     "text": [
      "0    1.0\n",
      "1    3.0\n",
      "2    5.0\n",
      "3    NaN\n",
      "4    6.0\n",
      "5    8.0\n",
      "dtype: float64\n"
     ]
    }
   ],
   "source": [
    "import numpy as np\n",
    "import pandas as pd\n",
    "\n",
    "s = pd.Series([1, 3, 5, np.nan, 6, 8])\n",
    "print(s)"
   ]
  },
  {
   "cell_type": "code",
   "execution_count": 17,
   "id": "82b10e71",
   "metadata": {},
   "outputs": [
    {
     "name": "stdout",
     "output_type": "stream",
     "text": [
      "DatetimeIndex(['2021-05-20', '2021-05-21', '2021-05-22', '2021-05-23',\n",
      "               '2021-05-24', '2021-05-25'],\n",
      "              dtype='datetime64[ns]', freq='D')\n"
     ]
    }
   ],
   "source": [
    "dates = pd.date_range('20210520', periods=6)\n",
    "print(dates)"
   ]
  },
  {
   "cell_type": "code",
   "execution_count": 18,
   "id": "b7cdcf71",
   "metadata": {},
   "outputs": [
    {
     "name": "stdout",
     "output_type": "stream",
     "text": [
      "                   A         B         C         D\n",
      "2021-05-20  1.132573 -0.053265 -0.601541  0.685042\n",
      "2021-05-21  0.299902 -0.777316 -0.430934  0.698111\n",
      "2021-05-22 -0.124679  0.604505  0.009051 -0.705386\n",
      "2021-05-23  1.467600 -0.928425 -0.468930 -0.553627\n",
      "2021-05-24  0.869550 -0.757250 -1.590168 -0.938484\n",
      "2021-05-25  0.129405 -1.144971 -0.473058 -1.018487\n"
     ]
    }
   ],
   "source": [
    "df = pd.DataFrame(np.random.randn(6, 4), index=dates, columns=list('ABCD'))\n",
    "print(df)"
   ]
  },
  {
   "cell_type": "code",
   "execution_count": 19,
   "id": "7523070a",
   "metadata": {},
   "outputs": [
    {
     "name": "stdout",
     "output_type": "stream",
     "text": [
      "     A          B    C  D      E    F\n",
      "0  1.0 2013-01-02  1.0  3   test  foo\n",
      "1  1.0 2013-01-02  1.0  3  train  foo\n",
      "2  1.0 2013-01-02  1.0  3   test  foo\n",
      "3  1.0 2013-01-02  1.0  3  train  foo\n"
     ]
    }
   ],
   "source": [
    "df2 = pd.DataFrame({'A': 1.,\n",
    "                    'B': pd.Timestamp('20130102'),\n",
    "                    'C': pd.Series(1, index=list(range(4)), dtype='float32'),\n",
    "                    'D': np.array([3] * 4, dtype='int32'),\n",
    "                    'E': pd.Categorical([\"test\", \"train\", \"test\", \"train\"]),\n",
    "                    'F': 'foo'})\n",
    "print(df2)"
   ]
  },
  {
   "cell_type": "code",
   "execution_count": null,
   "id": "abd4e5b7",
   "metadata": {},
   "outputs": [],
   "source": [
    "print(df2.dtypes)"
   ]
  },
  {
   "cell_type": "code",
   "execution_count": null,
   "id": "f5d5cf88",
   "metadata": {},
   "outputs": [],
   "source": []
  },
  {
   "cell_type": "code",
   "execution_count": null,
   "id": "d7db236d",
   "metadata": {},
   "outputs": [],
   "source": []
  },
  {
   "cell_type": "code",
   "execution_count": null,
   "id": "5e8d66ec",
   "metadata": {},
   "outputs": [],
   "source": []
  },
  {
   "cell_type": "code",
   "execution_count": 5,
   "id": "2ddc6aec",
   "metadata": {},
   "outputs": [
    {
     "data": {
      "text/html": [
       "<div>\n",
       "<style scoped>\n",
       "    .dataframe tbody tr th:only-of-type {\n",
       "        vertical-align: middle;\n",
       "    }\n",
       "\n",
       "    .dataframe tbody tr th {\n",
       "        vertical-align: top;\n",
       "    }\n",
       "\n",
       "    .dataframe thead th {\n",
       "        text-align: right;\n",
       "    }\n",
       "</style>\n",
       "<table border=\"1\" class=\"dataframe\">\n",
       "  <thead>\n",
       "    <tr style=\"text-align: right;\">\n",
       "      <th></th>\n",
       "      <th>A</th>\n",
       "      <th>B</th>\n",
       "      <th>C</th>\n",
       "      <th>D</th>\n",
       "    </tr>\n",
       "  </thead>\n",
       "  <tbody>\n",
       "    <tr>\n",
       "      <th>2020-01-01</th>\n",
       "      <td>0.501610</td>\n",
       "      <td>0.612811</td>\n",
       "      <td>-1.312114</td>\n",
       "      <td>0.724139</td>\n",
       "    </tr>\n",
       "    <tr>\n",
       "      <th>2020-01-02</th>\n",
       "      <td>-1.239312</td>\n",
       "      <td>0.790866</td>\n",
       "      <td>0.008765</td>\n",
       "      <td>-0.731446</td>\n",
       "    </tr>\n",
       "    <tr>\n",
       "      <th>2020-01-03</th>\n",
       "      <td>-0.108598</td>\n",
       "      <td>-0.791411</td>\n",
       "      <td>-0.171856</td>\n",
       "      <td>-0.499859</td>\n",
       "    </tr>\n",
       "    <tr>\n",
       "      <th>2020-01-04</th>\n",
       "      <td>-0.132454</td>\n",
       "      <td>-0.242662</td>\n",
       "      <td>1.796239</td>\n",
       "      <td>-0.497096</td>\n",
       "    </tr>\n",
       "    <tr>\n",
       "      <th>2020-01-05</th>\n",
       "      <td>2.871076</td>\n",
       "      <td>0.013636</td>\n",
       "      <td>-0.255572</td>\n",
       "      <td>0.934599</td>\n",
       "    </tr>\n",
       "    <tr>\n",
       "      <th>...</th>\n",
       "      <td>...</td>\n",
       "      <td>...</td>\n",
       "      <td>...</td>\n",
       "      <td>...</td>\n",
       "    </tr>\n",
       "    <tr>\n",
       "      <th>2022-09-22</th>\n",
       "      <td>-0.120865</td>\n",
       "      <td>0.040341</td>\n",
       "      <td>-0.905046</td>\n",
       "      <td>0.043892</td>\n",
       "    </tr>\n",
       "    <tr>\n",
       "      <th>2022-09-23</th>\n",
       "      <td>0.506129</td>\n",
       "      <td>-0.423839</td>\n",
       "      <td>-1.764287</td>\n",
       "      <td>2.290147</td>\n",
       "    </tr>\n",
       "    <tr>\n",
       "      <th>2022-09-24</th>\n",
       "      <td>0.089214</td>\n",
       "      <td>-0.628269</td>\n",
       "      <td>-0.441577</td>\n",
       "      <td>0.102786</td>\n",
       "    </tr>\n",
       "    <tr>\n",
       "      <th>2022-09-25</th>\n",
       "      <td>-1.913826</td>\n",
       "      <td>0.701493</td>\n",
       "      <td>-0.882176</td>\n",
       "      <td>0.952542</td>\n",
       "    </tr>\n",
       "    <tr>\n",
       "      <th>2022-09-26</th>\n",
       "      <td>-0.483538</td>\n",
       "      <td>0.564649</td>\n",
       "      <td>0.737243</td>\n",
       "      <td>-0.792241</td>\n",
       "    </tr>\n",
       "  </tbody>\n",
       "</table>\n",
       "<p>1000 rows × 4 columns</p>\n",
       "</div>"
      ],
      "text/plain": [
       "                   A         B         C         D\n",
       "2020-01-01  0.501610  0.612811 -1.312114  0.724139\n",
       "2020-01-02 -1.239312  0.790866  0.008765 -0.731446\n",
       "2020-01-03 -0.108598 -0.791411 -0.171856 -0.499859\n",
       "2020-01-04 -0.132454 -0.242662  1.796239 -0.497096\n",
       "2020-01-05  2.871076  0.013636 -0.255572  0.934599\n",
       "...              ...       ...       ...       ...\n",
       "2022-09-22 -0.120865  0.040341 -0.905046  0.043892\n",
       "2022-09-23  0.506129 -0.423839 -1.764287  2.290147\n",
       "2022-09-24  0.089214 -0.628269 -0.441577  0.102786\n",
       "2022-09-25 -1.913826  0.701493 -0.882176  0.952542\n",
       "2022-09-26 -0.483538  0.564649  0.737243 -0.792241\n",
       "\n",
       "[1000 rows x 4 columns]"
      ]
     },
     "execution_count": 5,
     "metadata": {},
     "output_type": "execute_result"
    }
   ],
   "source": [
    "import numpy as np\n",
    "import pandas as pd\n",
    "import matplotlib.pyplot as plt\n",
    "\n",
    "df = pd.DataFrame(np.random.randn(1000, 4), columns=['A', 'B', 'C', 'D'],\n",
    "                  index=pd.date_range('1/1/2020', periods=1000))\n",
    "df"
   ]
  },
  {
   "cell_type": "code",
   "execution_count": 3,
   "id": "c03c9a18",
   "metadata": {},
   "outputs": [
    {
     "data": {
      "text/plain": [
       "<AxesSubplot:>"
      ]
     },
     "execution_count": 3,
     "metadata": {},
     "output_type": "execute_result"
    },
    {
     "data": {
      "image/png": "[encoded data removed]",
      "text/plain": [
       "<Figure size 432x288 with 1 Axes>"
      ]
     },
     "metadata": {
      "needs_background": "light"
     },
     "output_type": "display_data"
    }
   ],
   "source": [
    "df.plot()"
   ]
  },
  {
   "cell_type": "code",
   "execution_count": 6,
   "id": "d26bfed3",
   "metadata": {},
   "outputs": [
    {
     "data": {
      "text/html": [
       "<div>\n",
       "<style scoped>\n",
       "    .dataframe tbody tr th:only-of-type {\n",
       "        vertical-align: middle;\n",
       "    }\n",
       "\n",
       "    .dataframe tbody tr th {\n",
       "        vertical-align: top;\n",
       "    }\n",
       "\n",
       "    .dataframe thead th {\n",
       "        text-align: right;\n",
       "    }\n",
       "</style>\n",
       "<table border=\"1\" class=\"dataframe\">\n",
       "  <thead>\n",
       "    <tr style=\"text-align: right;\">\n",
       "      <th></th>\n",
       "      <th>A</th>\n",
       "      <th>B</th>\n",
       "      <th>C</th>\n",
       "      <th>D</th>\n",
       "    </tr>\n",
       "  </thead>\n",
       "  <tbody>\n",
       "    <tr>\n",
       "      <th>2020-01-01</th>\n",
       "      <td>0.501610</td>\n",
       "      <td>0.612811</td>\n",
       "      <td>-1.312114</td>\n",
       "      <td>0.724139</td>\n",
       "    </tr>\n",
       "    <tr>\n",
       "      <th>2020-01-02</th>\n",
       "      <td>-1.239312</td>\n",
       "      <td>0.790866</td>\n",
       "      <td>0.008765</td>\n",
       "      <td>-0.731446</td>\n",
       "    </tr>\n",
       "    <tr>\n",
       "      <th>2020-01-03</th>\n",
       "      <td>-0.108598</td>\n",
       "      <td>-0.791411</td>\n",
       "      <td>-0.171856</td>\n",
       "      <td>-0.499859</td>\n",
       "    </tr>\n",
       "    <tr>\n",
       "      <th>2020-01-04</th>\n",
       "      <td>-0.132454</td>\n",
       "      <td>-0.242662</td>\n",
       "      <td>1.796239</td>\n",
       "      <td>-0.497096</td>\n",
       "    </tr>\n",
       "    <tr>\n",
       "      <th>2020-01-05</th>\n",
       "      <td>2.871076</td>\n",
       "      <td>0.013636</td>\n",
       "      <td>-0.255572</td>\n",
       "      <td>0.934599</td>\n",
       "    </tr>\n",
       "    <tr>\n",
       "      <th>...</th>\n",
       "      <td>...</td>\n",
       "      <td>...</td>\n",
       "      <td>...</td>\n",
       "      <td>...</td>\n",
       "    </tr>\n",
       "    <tr>\n",
       "      <th>2022-09-22</th>\n",
       "      <td>-0.120865</td>\n",
       "      <td>0.040341</td>\n",
       "      <td>-0.905046</td>\n",
       "      <td>0.043892</td>\n",
       "    </tr>\n",
       "    <tr>\n",
       "      <th>2022-09-23</th>\n",
       "      <td>0.506129</td>\n",
       "      <td>-0.423839</td>\n",
       "      <td>-1.764287</td>\n",
       "      <td>2.290147</td>\n",
       "    </tr>\n",
       "    <tr>\n",
       "      <th>2022-09-24</th>\n",
       "      <td>0.089214</td>\n",
       "      <td>-0.628269</td>\n",
       "      <td>-0.441577</td>\n",
       "      <td>0.102786</td>\n",
       "    </tr>\n",
       "    <tr>\n",
       "      <th>2022-09-25</th>\n",
       "      <td>-1.913826</td>\n",
       "      <td>0.701493</td>\n",
       "      <td>-0.882176</td>\n",
       "      <td>0.952542</td>\n",
       "    </tr>\n",
       "    <tr>\n",
       "      <th>2022-09-26</th>\n",
       "      <td>-0.483538</td>\n",
       "      <td>0.564649</td>\n",
       "      <td>0.737243</td>\n",
       "      <td>-0.792241</td>\n",
       "    </tr>\n",
       "  </tbody>\n",
       "</table>\n",
       "<p>1000 rows × 4 columns</p>\n",
       "</div>"
      ],
      "text/plain": [
       "                   A         B         C         D\n",
       "2020-01-01  0.501610  0.612811 -1.312114  0.724139\n",
       "2020-01-02 -1.239312  0.790866  0.008765 -0.731446\n",
       "2020-01-03 -0.108598 -0.791411 -0.171856 -0.499859\n",
       "2020-01-04 -0.132454 -0.242662  1.796239 -0.497096\n",
       "2020-01-05  2.871076  0.013636 -0.255572  0.934599\n",
       "...              ...       ...       ...       ...\n",
       "2022-09-22 -0.120865  0.040341 -0.905046  0.043892\n",
       "2022-09-23  0.506129 -0.423839 -1.764287  2.290147\n",
       "2022-09-24  0.089214 -0.628269 -0.441577  0.102786\n",
       "2022-09-25 -1.913826  0.701493 -0.882176  0.952542\n",
       "2022-09-26 -0.483538  0.564649  0.737243 -0.792241\n",
       "\n",
       "[1000 rows x 4 columns]"
      ]
     },
     "execution_count": 6,
     "metadata": {},
     "output_type": "execute_result"
    }
   ],
   "source": [
    "df"
   ]
  },
  {
   "cell_type": "code",
   "execution_count": 7,
   "id": "bf8a0149",
   "metadata": {},
   "outputs": [
    {
     "data": {
      "text/html": [
       "<div>\n",
       "<style scoped>\n",
       "    .dataframe tbody tr th:only-of-type {\n",
       "        vertical-align: middle;\n",
       "    }\n",
       "\n",
       "    .dataframe tbody tr th {\n",
       "        vertical-align: top;\n",
       "    }\n",
       "\n",
       "    .dataframe thead th {\n",
       "        text-align: right;\n",
       "    }\n",
       "</style>\n",
       "<table border=\"1\" class=\"dataframe\">\n",
       "  <thead>\n",
       "    <tr style=\"text-align: right;\">\n",
       "      <th></th>\n",
       "      <th>A</th>\n",
       "      <th>B</th>\n",
       "      <th>C</th>\n",
       "      <th>D</th>\n",
       "    </tr>\n",
       "  </thead>\n",
       "  <tbody>\n",
       "    <tr>\n",
       "      <th>2020-01-01</th>\n",
       "      <td>0.501610</td>\n",
       "      <td>0.612811</td>\n",
       "      <td>-1.312114</td>\n",
       "      <td>0.724139</td>\n",
       "    </tr>\n",
       "    <tr>\n",
       "      <th>2020-01-02</th>\n",
       "      <td>-0.737702</td>\n",
       "      <td>1.403677</td>\n",
       "      <td>-1.303349</td>\n",
       "      <td>-0.007307</td>\n",
       "    </tr>\n",
       "    <tr>\n",
       "      <th>2020-01-03</th>\n",
       "      <td>-0.846300</td>\n",
       "      <td>0.612265</td>\n",
       "      <td>-1.475205</td>\n",
       "      <td>-0.507165</td>\n",
       "    </tr>\n",
       "    <tr>\n",
       "      <th>2020-01-04</th>\n",
       "      <td>-0.978753</td>\n",
       "      <td>0.369603</td>\n",
       "      <td>0.321034</td>\n",
       "      <td>-1.004262</td>\n",
       "    </tr>\n",
       "    <tr>\n",
       "      <th>2020-01-05</th>\n",
       "      <td>1.892323</td>\n",
       "      <td>0.383239</td>\n",
       "      <td>0.065461</td>\n",
       "      <td>-0.069663</td>\n",
       "    </tr>\n",
       "    <tr>\n",
       "      <th>...</th>\n",
       "      <td>...</td>\n",
       "      <td>...</td>\n",
       "      <td>...</td>\n",
       "      <td>...</td>\n",
       "    </tr>\n",
       "    <tr>\n",
       "      <th>2022-09-22</th>\n",
       "      <td>-9.580946</td>\n",
       "      <td>18.207338</td>\n",
       "      <td>13.334696</td>\n",
       "      <td>-1.885279</td>\n",
       "    </tr>\n",
       "    <tr>\n",
       "      <th>2022-09-23</th>\n",
       "      <td>-9.074817</td>\n",
       "      <td>17.783500</td>\n",
       "      <td>11.570408</td>\n",
       "      <td>0.404868</td>\n",
       "    </tr>\n",
       "    <tr>\n",
       "      <th>2022-09-24</th>\n",
       "      <td>-8.985602</td>\n",
       "      <td>17.155231</td>\n",
       "      <td>11.128831</td>\n",
       "      <td>0.507654</td>\n",
       "    </tr>\n",
       "    <tr>\n",
       "      <th>2022-09-25</th>\n",
       "      <td>-10.899428</td>\n",
       "      <td>17.856724</td>\n",
       "      <td>10.246655</td>\n",
       "      <td>1.460196</td>\n",
       "    </tr>\n",
       "    <tr>\n",
       "      <th>2022-09-26</th>\n",
       "      <td>-11.382966</td>\n",
       "      <td>18.421374</td>\n",
       "      <td>10.983899</td>\n",
       "      <td>0.667955</td>\n",
       "    </tr>\n",
       "  </tbody>\n",
       "</table>\n",
       "<p>1000 rows × 4 columns</p>\n",
       "</div>"
      ],
      "text/plain": [
       "                    A          B          C         D\n",
       "2020-01-01   0.501610   0.612811  -1.312114  0.724139\n",
       "2020-01-02  -0.737702   1.403677  -1.303349 -0.007307\n",
       "2020-01-03  -0.846300   0.612265  -1.475205 -0.507165\n",
       "2020-01-04  -0.978753   0.369603   0.321034 -1.004262\n",
       "2020-01-05   1.892323   0.383239   0.065461 -0.069663\n",
       "...               ...        ...        ...       ...\n",
       "2022-09-22  -9.580946  18.207338  13.334696 -1.885279\n",
       "2022-09-23  -9.074817  17.783500  11.570408  0.404868\n",
       "2022-09-24  -8.985602  17.155231  11.128831  0.507654\n",
       "2022-09-25 -10.899428  17.856724  10.246655  1.460196\n",
       "2022-09-26 -11.382966  18.421374  10.983899  0.667955\n",
       "\n",
       "[1000 rows x 4 columns]"
      ]
     },
     "execution_count": 7,
     "metadata": {},
     "output_type": "execute_result"
    }
   ],
   "source": [
    "df2 = df.cumsum()\n",
    "df2"
   ]
  },
  {
   "cell_type": "code",
   "execution_count": 10,
   "id": "117be33f",
   "metadata": {},
   "outputs": [
    {
     "data": {
      "text/html": [
       "<div>\n",
       "<style scoped>\n",
       "    .dataframe tbody tr th:only-of-type {\n",
       "        vertical-align: middle;\n",
       "    }\n",
       "\n",
       "    .dataframe tbody tr th {\n",
       "        vertical-align: top;\n",
       "    }\n",
       "\n",
       "    .dataframe thead th {\n",
       "        text-align: right;\n",
       "    }\n",
       "</style>\n",
       "<table border=\"1\" class=\"dataframe\">\n",
       "  <thead>\n",
       "    <tr style=\"text-align: right;\">\n",
       "      <th></th>\n",
       "      <th>A</th>\n",
       "      <th>B</th>\n",
       "      <th>C</th>\n",
       "      <th>D</th>\n",
       "    </tr>\n",
       "  </thead>\n",
       "  <tbody>\n",
       "    <tr>\n",
       "      <th>2020-01-01</th>\n",
       "      <td>0.501610</td>\n",
       "      <td>0.612811</td>\n",
       "      <td>-1.312114</td>\n",
       "      <td>0.724139</td>\n",
       "    </tr>\n",
       "    <tr>\n",
       "      <th>2020-01-02</th>\n",
       "      <td>-1.239312</td>\n",
       "      <td>0.790866</td>\n",
       "      <td>0.008765</td>\n",
       "      <td>-0.731446</td>\n",
       "    </tr>\n",
       "    <tr>\n",
       "      <th>2020-01-03</th>\n",
       "      <td>-0.108598</td>\n",
       "      <td>-0.791411</td>\n",
       "      <td>-0.171856</td>\n",
       "      <td>-0.499859</td>\n",
       "    </tr>\n",
       "    <tr>\n",
       "      <th>2020-01-04</th>\n",
       "      <td>-0.132454</td>\n",
       "      <td>-0.242662</td>\n",
       "      <td>1.796239</td>\n",
       "      <td>-0.497096</td>\n",
       "    </tr>\n",
       "    <tr>\n",
       "      <th>2020-01-05</th>\n",
       "      <td>2.871076</td>\n",
       "      <td>0.013636</td>\n",
       "      <td>-0.255572</td>\n",
       "      <td>0.934599</td>\n",
       "    </tr>\n",
       "    <tr>\n",
       "      <th>2020-01-06</th>\n",
       "      <td>-0.934684</td>\n",
       "      <td>0.821341</td>\n",
       "      <td>-0.988135</td>\n",
       "      <td>1.150808</td>\n",
       "    </tr>\n",
       "    <tr>\n",
       "      <th>2020-01-07</th>\n",
       "      <td>-0.093162</td>\n",
       "      <td>0.738294</td>\n",
       "      <td>-1.244449</td>\n",
       "      <td>-1.436805</td>\n",
       "    </tr>\n",
       "    <tr>\n",
       "      <th>2020-01-08</th>\n",
       "      <td>1.737139</td>\n",
       "      <td>-0.128738</td>\n",
       "      <td>-1.000584</td>\n",
       "      <td>1.173613</td>\n",
       "    </tr>\n",
       "    <tr>\n",
       "      <th>2020-01-09</th>\n",
       "      <td>-1.402524</td>\n",
       "      <td>-0.401967</td>\n",
       "      <td>-1.368148</td>\n",
       "      <td>-1.365172</td>\n",
       "    </tr>\n",
       "    <tr>\n",
       "      <th>2020-01-10</th>\n",
       "      <td>0.417943</td>\n",
       "      <td>1.390561</td>\n",
       "      <td>-0.497616</td>\n",
       "      <td>-1.510956</td>\n",
       "    </tr>\n",
       "  </tbody>\n",
       "</table>\n",
       "</div>"
      ],
      "text/plain": [
       "                   A         B         C         D\n",
       "2020-01-01  0.501610  0.612811 -1.312114  0.724139\n",
       "2020-01-02 -1.239312  0.790866  0.008765 -0.731446\n",
       "2020-01-03 -0.108598 -0.791411 -0.171856 -0.499859\n",
       "2020-01-04 -0.132454 -0.242662  1.796239 -0.497096\n",
       "2020-01-05  2.871076  0.013636 -0.255572  0.934599\n",
       "2020-01-06 -0.934684  0.821341 -0.988135  1.150808\n",
       "2020-01-07 -0.093162  0.738294 -1.244449 -1.436805\n",
       "2020-01-08  1.737139 -0.128738 -1.000584  1.173613\n",
       "2020-01-09 -1.402524 -0.401967 -1.368148 -1.365172\n",
       "2020-01-10  0.417943  1.390561 -0.497616 -1.510956"
      ]
     },
     "execution_count": 10,
     "metadata": {},
     "output_type": "execute_result"
    }
   ],
   "source": [
    "df.head(10)"
   ]
  },
  {
   "cell_type": "code",
   "execution_count": 12,
   "id": "acdb47a1",
   "metadata": {},
   "outputs": [
    {
     "data": {
      "text/html": [
       "<div>\n",
       "<style scoped>\n",
       "    .dataframe tbody tr th:only-of-type {\n",
       "        vertical-align: middle;\n",
       "    }\n",
       "\n",
       "    .dataframe tbody tr th {\n",
       "        vertical-align: top;\n",
       "    }\n",
       "\n",
       "    .dataframe thead th {\n",
       "        text-align: right;\n",
       "    }\n",
       "</style>\n",
       "<table border=\"1\" class=\"dataframe\">\n",
       "  <thead>\n",
       "    <tr style=\"text-align: right;\">\n",
       "      <th></th>\n",
       "      <th>A</th>\n",
       "      <th>B</th>\n",
       "      <th>C</th>\n",
       "      <th>D</th>\n",
       "    </tr>\n",
       "  </thead>\n",
       "  <tbody>\n",
       "    <tr>\n",
       "      <th>2022-09-17</th>\n",
       "      <td>2.394054</td>\n",
       "      <td>1.414390</td>\n",
       "      <td>0.770626</td>\n",
       "      <td>0.494096</td>\n",
       "    </tr>\n",
       "    <tr>\n",
       "      <th>2022-09-18</th>\n",
       "      <td>-1.495355</td>\n",
       "      <td>1.039310</td>\n",
       "      <td>-0.977072</td>\n",
       "      <td>-1.634456</td>\n",
       "    </tr>\n",
       "    <tr>\n",
       "      <th>2022-09-19</th>\n",
       "      <td>1.447463</td>\n",
       "      <td>0.343463</td>\n",
       "      <td>-0.143059</td>\n",
       "      <td>-0.799503</td>\n",
       "    </tr>\n",
       "    <tr>\n",
       "      <th>2022-09-20</th>\n",
       "      <td>-1.530482</td>\n",
       "      <td>0.593983</td>\n",
       "      <td>0.425352</td>\n",
       "      <td>-0.049335</td>\n",
       "    </tr>\n",
       "    <tr>\n",
       "      <th>2022-09-21</th>\n",
       "      <td>-0.102537</td>\n",
       "      <td>-1.156798</td>\n",
       "      <td>0.380710</td>\n",
       "      <td>0.885897</td>\n",
       "    </tr>\n",
       "    <tr>\n",
       "      <th>2022-09-22</th>\n",
       "      <td>-0.120865</td>\n",
       "      <td>0.040341</td>\n",
       "      <td>-0.905046</td>\n",
       "      <td>0.043892</td>\n",
       "    </tr>\n",
       "    <tr>\n",
       "      <th>2022-09-23</th>\n",
       "      <td>0.506129</td>\n",
       "      <td>-0.423839</td>\n",
       "      <td>-1.764287</td>\n",
       "      <td>2.290147</td>\n",
       "    </tr>\n",
       "    <tr>\n",
       "      <th>2022-09-24</th>\n",
       "      <td>0.089214</td>\n",
       "      <td>-0.628269</td>\n",
       "      <td>-0.441577</td>\n",
       "      <td>0.102786</td>\n",
       "    </tr>\n",
       "    <tr>\n",
       "      <th>2022-09-25</th>\n",
       "      <td>-1.913826</td>\n",
       "      <td>0.701493</td>\n",
       "      <td>-0.882176</td>\n",
       "      <td>0.952542</td>\n",
       "    </tr>\n",
       "    <tr>\n",
       "      <th>2022-09-26</th>\n",
       "      <td>-0.483538</td>\n",
       "      <td>0.564649</td>\n",
       "      <td>0.737243</td>\n",
       "      <td>-0.792241</td>\n",
       "    </tr>\n",
       "  </tbody>\n",
       "</table>\n",
       "</div>"
      ],
      "text/plain": [
       "                   A         B         C         D\n",
       "2022-09-17  2.394054  1.414390  0.770626  0.494096\n",
       "2022-09-18 -1.495355  1.039310 -0.977072 -1.634456\n",
       "2022-09-19  1.447463  0.343463 -0.143059 -0.799503\n",
       "2022-09-20 -1.530482  0.593983  0.425352 -0.049335\n",
       "2022-09-21 -0.102537 -1.156798  0.380710  0.885897\n",
       "2022-09-22 -0.120865  0.040341 -0.905046  0.043892\n",
       "2022-09-23  0.506129 -0.423839 -1.764287  2.290147\n",
       "2022-09-24  0.089214 -0.628269 -0.441577  0.102786\n",
       "2022-09-25 -1.913826  0.701493 -0.882176  0.952542\n",
       "2022-09-26 -0.483538  0.564649  0.737243 -0.792241"
      ]
     },
     "execution_count": 12,
     "metadata": {},
     "output_type": "execute_result"
    }
   ],
   "source": [
    "df.tail(10)"
   ]
  },
  {
   "cell_type": "code",
   "execution_count": 14,
   "id": "8223ac77",
   "metadata": {},
   "outputs": [
    {
     "data": {
      "text/plain": [
       "<AxesSubplot:>"
      ]
     },
     "execution_count": 14,
     "metadata": {},
     "output_type": "execute_result"
    },
    {
     "data": {
      "image/png": "[encoded data removed]",
      "text/plain": [
       "<Figure size 432x288 with 1 Axes>"
      ]
     },
     "metadata": {
      "needs_background": "light"
     },
     "output_type": "display_data"
    }
   ],
   "source": [
    "df2.plot()"
   ]
  },
  {
   "cell_type": "code",
   "execution_count": 20,
   "id": "696ebfad",
   "metadata": {},
   "outputs": [
    {
     "data": {
      "text/plain": [
       "array(10)"
      ]
     },
     "execution_count": 20,
     "metadata": {},
     "output_type": "execute_result"
    }
   ],
   "source": [
    "np.array(10)"
   ]
  },
  {
   "cell_type": "code",
   "execution_count": 21,
   "id": "4e523d8b",
   "metadata": {},
   "outputs": [
    {
     "ename": "TypeError",
     "evalue": "array() takes from 1 to 2 positional arguments but 3 were given",
     "output_type": "error",
     "traceback": [
      "\u001b[1;31m---------------------------------------------------------------------------\u001b[0m",
      "\u001b[1;31mTypeError\u001b[0m                                 Traceback (most recent call last)",
      "\u001b[1;32m<ipython-input-21-9ad0042d0266>\u001b[0m in \u001b[0;36m<module>\u001b[1;34m\u001b[0m\n\u001b[1;32m----> 1\u001b[1;33m \u001b[0mnp\u001b[0m\u001b[1;33m.\u001b[0m\u001b[0marray\u001b[0m\u001b[1;33m(\u001b[0m\u001b[1;36m1\u001b[0m\u001b[1;33m,\u001b[0m \u001b[1;36m2\u001b[0m\u001b[1;33m,\u001b[0m \u001b[1;36m3\u001b[0m\u001b[1;33m)\u001b[0m\u001b[1;33m\u001b[0m\u001b[1;33m\u001b[0m\u001b[0m\n\u001b[0m",
      "\u001b[1;31mTypeError\u001b[0m: array() takes from 1 to 2 positional arguments but 3 were given"
     ]
    }
   ],
   "source": [
    "np.array(1, 2, 3)"
   ]
  },
  {
   "cell_type": "code",
   "execution_count": 22,
   "id": "cfdda206",
   "metadata": {},
   "outputs": [
    {
     "data": {
      "text/plain": [
       "array([1, 2, 3])"
      ]
     },
     "execution_count": 22,
     "metadata": {},
     "output_type": "execute_result"
    }
   ],
   "source": [
    "np.array([1, 2, 3])"
   ]
  },
  {
   "cell_type": "code",
   "execution_count": 23,
   "id": "efa1c90b",
   "metadata": {},
   "outputs": [
    {
     "data": {
      "text/plain": [
       "array([[1, 2, 3]])"
      ]
     },
     "execution_count": 23,
     "metadata": {},
     "output_type": "execute_result"
    }
   ],
   "source": [
    "np.array([[1, 2, 3]])"
   ]
  },
  {
   "cell_type": "code",
   "execution_count": null,
   "id": "a9f16947",
   "metadata": {},
   "outputs": [],
   "source": []
  }
 ],
 "metadata": {
  "kernelspec": {
   "display_name": "Python 3",
   "language": "python",
   "name": "python3"
  },
  "language_info": {
   "codemirror_mode": {
    "name": "ipython",
    "version": 3
   },
   "file_extension": ".py",
   "mimetype": "text/x-python",
   "name": "python",
   "nbconvert_exporter": "python",
   "pygments_lexer": "ipython3",
   "version": "3.9.4"
  }
 },
 "nbformat": 4,
 "nbformat_minor": 5
}
