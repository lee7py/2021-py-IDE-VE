{
 "cells": [
  {
   "cell_type": "code",
   "execution_count": 10,
   "id": "6e611c5d",
   "metadata": {},
   "outputs": [],
   "source": [
    "import random"
   ]
  },
  {
   "cell_type": "code",
   "execution_count": 15,
   "id": "d6ea8d8f",
   "metadata": {},
   "outputs": [
    {
     "data": {
      "text/plain": [
       "0.05098379102044681"
      ]
     },
     "execution_count": 15,
     "metadata": {},
     "output_type": "execute_result"
    }
   ],
   "source": [
    "random.random()"
   ]
  },
  {
   "cell_type": "code",
   "execution_count": 1,
   "id": "02adb21d",
   "metadata": {},
   "outputs": [],
   "source": [
    "import numpy as np"
   ]
  },
  {
   "cell_type": "code",
   "execution_count": 20,
   "id": "2175195d",
   "metadata": {},
   "outputs": [
    {
     "name": "stdout",
     "output_type": "stream",
     "text": [
      "[[0.78917861 0.71893546 0.29657963 0.03277587]\n",
      " [0.35979887 0.93878372 0.25748795 0.68550628]\n",
      " [0.10742468 0.03264172 0.19230711 0.68308267]]\n"
     ]
    }
   ],
   "source": [
    "# Return random floats in the half-open interval [0.0, 1.0).\n",
    "# Alias for `random_sample` to ease forward-porting to the new random API.\n",
    "a = np.random.random([3, 4])\n",
    "print(a)"
   ]
  },
  {
   "cell_type": "code",
   "execution_count": 9,
   "id": "c84b623b",
   "metadata": {},
   "outputs": [
    {
     "data": {
      "text/plain": [
       "0.11562079058741648"
      ]
     },
     "execution_count": 9,
     "metadata": {},
     "output_type": "execute_result"
    }
   ],
   "source": [
    "np.random.random()"
   ]
  },
  {
   "cell_type": "code",
   "execution_count": 21,
   "id": "6c613e60",
   "metadata": {},
   "outputs": [
    {
     "name": "stdout",
     "output_type": "stream",
     "text": [
      "[[0.73211531 0.64798346 0.18738285 0.75783856]\n",
      " [0.34623691 0.10929117 0.12264166 0.91798437]]\n"
     ]
    }
   ],
   "source": [
    "a = np.random.random_sample([2, 4])\n",
    "print(a)"
   ]
  },
  {
   "cell_type": "code",
   "execution_count": 26,
   "id": "f4b943c7",
   "metadata": {},
   "outputs": [
    {
     "name": "stdout",
     "output_type": "stream",
     "text": [
      "[-0.68212158 -0.93189189]\n",
      "[[ 0.19145194  1.3933299   0.46544384]\n",
      " [-0.31760144  1.19570829 -0.14096653]]\n",
      "[[-0.23370598  0.82782923 -0.48558901  0.62291088]\n",
      " [-0.41572265 -1.96932924 -1.5713652  -1.1222357 ]\n",
      " [ 0.65079216 -1.44063609  0.07546726  1.37430404]]\n"
     ]
    }
   ],
   "source": [
    "# 정규분포의 난수 생성\n",
    "b = np.random.randn(2)\n",
    "print(b)\n",
    "b = np.random.randn(2, 3)\n",
    "print(b)\n",
    "b = np.random.randn(3, 4)\n",
    "print(b)"
   ]
  },
  {
   "cell_type": "code",
   "execution_count": 28,
   "id": "52523c54",
   "metadata": {},
   "outputs": [],
   "source": [
    "np.random.randn?"
   ]
  },
  {
   "cell_type": "code",
   "execution_count": 29,
   "id": "5d67bf74",
   "metadata": {},
   "outputs": [
    {
     "data": {
      "text/plain": [
       "0.6763515757110231"
      ]
     },
     "execution_count": 29,
     "metadata": {},
     "output_type": "execute_result"
    }
   ],
   "source": [
    "np.random.randn()"
   ]
  },
  {
   "cell_type": "code",
   "execution_count": 30,
   "id": "4ba0324f",
   "metadata": {},
   "outputs": [
    {
     "name": "stdout",
     "output_type": "stream",
     "text": [
      "[1. 1. 1.]\n"
     ]
    }
   ],
   "source": [
    "# 값이 모두 1인 텐서\n",
    "c = np.ones(3)\n",
    "print(c)"
   ]
  },
  {
   "cell_type": "code",
   "execution_count": 31,
   "id": "7a65dbe8",
   "metadata": {},
   "outputs": [
    {
     "name": "stdout",
     "output_type": "stream",
     "text": [
      "[[0. 0. 0.]\n",
      " [0. 0. 0.]]\n",
      "[[0. 0. 0. 0.]\n",
      " [0. 0. 0. 0.]\n",
      " [0. 0. 0. 0.]]\n"
     ]
    }
   ],
   "source": [
    "# 값이 모두 0인 텐서\n",
    "c = np.zeros((2, 3))\n",
    "print(c)\n",
    "c = np.zeros([3, 4])\n",
    "print(c)"
   ]
  },
  {
   "cell_type": "code",
   "execution_count": null,
   "id": "2f1c2a1f",
   "metadata": {},
   "outputs": [],
   "source": []
  }
 ],
 "metadata": {
  "kernelspec": {
   "display_name": "Python 3",
   "language": "python",
   "name": "python3"
  },
  "language_info": {
   "codemirror_mode": {
    "name": "ipython",
    "version": 3
   },
   "file_extension": ".py",
   "mimetype": "text/x-python",
   "name": "python",
   "nbconvert_exporter": "python",
   "pygments_lexer": "ipython3",
   "version": "3.9.4"
  }
 },
 "nbformat": 4,
 "nbformat_minor": 5
}
